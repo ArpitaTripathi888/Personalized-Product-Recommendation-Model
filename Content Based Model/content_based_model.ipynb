{
 "cells": [
  {
   "cell_type": "code",
   "execution_count": 1,
   "id": "2c3e72e2",
   "metadata": {},
   "outputs": [],
   "source": [
    "import numpy as np\n",
    "import pandas as pd\n"
   ]
  },
  {
   "cell_type": "markdown",
   "id": "5d84bcb6",
   "metadata": {},
   "source": [
    "#### Dataset Link:-  https://www.kaggle.com/datasets/PromptCloudHQ/flipkart-products"
   ]
  },
  {
   "cell_type": "code",
   "execution_count": 2,
   "id": "39003024",
   "metadata": {},
   "outputs": [],
   "source": [
    "product_df = pd.read_csv('flipkart_com-ecommerce_sample.csv')\n"
   ]
  },
  {
   "cell_type": "code",
   "execution_count": 3,
   "id": "3d0d6ca8",
   "metadata": {},
   "outputs": [],
   "source": [
    "product_df = product_df[['pid' , 'product_name', 'product_category_tree' , 'brand', 'description']]"
   ]
  },
  {
   "cell_type": "markdown",
   "id": "046d114a",
   "metadata": {},
   "source": [
    "# Data Exploration"
   ]
  },
  {
   "cell_type": "code",
   "execution_count": 4,
   "id": "982beeae",
   "metadata": {},
   "outputs": [
    {
     "data": {
      "text/html": [
       "<div>\n",
       "<style scoped>\n",
       "    .dataframe tbody tr th:only-of-type {\n",
       "        vertical-align: middle;\n",
       "    }\n",
       "\n",
       "    .dataframe tbody tr th {\n",
       "        vertical-align: top;\n",
       "    }\n",
       "\n",
       "    .dataframe thead th {\n",
       "        text-align: right;\n",
       "    }\n",
       "</style>\n",
       "<table border=\"1\" class=\"dataframe\">\n",
       "  <thead>\n",
       "    <tr style=\"text-align: right;\">\n",
       "      <th></th>\n",
       "      <th>pid</th>\n",
       "      <th>product_name</th>\n",
       "      <th>product_category_tree</th>\n",
       "      <th>brand</th>\n",
       "      <th>description</th>\n",
       "    </tr>\n",
       "  </thead>\n",
       "  <tbody>\n",
       "    <tr>\n",
       "      <th>0</th>\n",
       "      <td>SRTEH2FF9KEDEFGF</td>\n",
       "      <td>Alisha Solid Women's Cycling Shorts</td>\n",
       "      <td>[\"Clothing &gt;&gt; Women's Clothing &gt;&gt; Lingerie, Sl...</td>\n",
       "      <td>Alisha</td>\n",
       "      <td>Key Features of Alisha Solid Women's Cycling S...</td>\n",
       "    </tr>\n",
       "    <tr>\n",
       "      <th>1</th>\n",
       "      <td>SBEEH3QGU7MFYJFY</td>\n",
       "      <td>FabHomeDecor Fabric Double Sofa Bed</td>\n",
       "      <td>[\"Furniture &gt;&gt; Living Room Furniture &gt;&gt; Sofa B...</td>\n",
       "      <td>FabHomeDecor</td>\n",
       "      <td>FabHomeDecor Fabric Double Sofa Bed (Finish Co...</td>\n",
       "    </tr>\n",
       "    <tr>\n",
       "      <th>2</th>\n",
       "      <td>SHOEH4GRSUBJGZXE</td>\n",
       "      <td>AW Bellies</td>\n",
       "      <td>[\"Footwear &gt;&gt; Women's Footwear &gt;&gt; Ballerinas &gt;...</td>\n",
       "      <td>AW</td>\n",
       "      <td>Key Features of AW Bellies Sandals Wedges Heel...</td>\n",
       "    </tr>\n",
       "    <tr>\n",
       "      <th>3</th>\n",
       "      <td>SRTEH2F6HUZMQ6SJ</td>\n",
       "      <td>Alisha Solid Women's Cycling Shorts</td>\n",
       "      <td>[\"Clothing &gt;&gt; Women's Clothing &gt;&gt; Lingerie, Sl...</td>\n",
       "      <td>Alisha</td>\n",
       "      <td>Key Features of Alisha Solid Women's Cycling S...</td>\n",
       "    </tr>\n",
       "    <tr>\n",
       "      <th>4</th>\n",
       "      <td>PSOEH3ZYDMSYARJ5</td>\n",
       "      <td>Sicons All Purpose Arnica Dog Shampoo</td>\n",
       "      <td>[\"Pet Supplies &gt;&gt; Grooming &gt;&gt; Skin &amp; Coat Care...</td>\n",
       "      <td>Sicons</td>\n",
       "      <td>Specifications of Sicons All Purpose Arnica Do...</td>\n",
       "    </tr>\n",
       "  </tbody>\n",
       "</table>\n",
       "</div>"
      ],
      "text/plain": [
       "                pid                           product_name  \\\n",
       "0  SRTEH2FF9KEDEFGF    Alisha Solid Women's Cycling Shorts   \n",
       "1  SBEEH3QGU7MFYJFY    FabHomeDecor Fabric Double Sofa Bed   \n",
       "2  SHOEH4GRSUBJGZXE                             AW Bellies   \n",
       "3  SRTEH2F6HUZMQ6SJ    Alisha Solid Women's Cycling Shorts   \n",
       "4  PSOEH3ZYDMSYARJ5  Sicons All Purpose Arnica Dog Shampoo   \n",
       "\n",
       "                               product_category_tree         brand  \\\n",
       "0  [\"Clothing >> Women's Clothing >> Lingerie, Sl...        Alisha   \n",
       "1  [\"Furniture >> Living Room Furniture >> Sofa B...  FabHomeDecor   \n",
       "2  [\"Footwear >> Women's Footwear >> Ballerinas >...            AW   \n",
       "3  [\"Clothing >> Women's Clothing >> Lingerie, Sl...        Alisha   \n",
       "4  [\"Pet Supplies >> Grooming >> Skin & Coat Care...        Sicons   \n",
       "\n",
       "                                         description  \n",
       "0  Key Features of Alisha Solid Women's Cycling S...  \n",
       "1  FabHomeDecor Fabric Double Sofa Bed (Finish Co...  \n",
       "2  Key Features of AW Bellies Sandals Wedges Heel...  \n",
       "3  Key Features of Alisha Solid Women's Cycling S...  \n",
       "4  Specifications of Sicons All Purpose Arnica Do...  "
      ]
     },
     "execution_count": 4,
     "metadata": {},
     "output_type": "execute_result"
    }
   ],
   "source": [
    "product_df.head()"
   ]
  },
  {
   "cell_type": "code",
   "execution_count": 5,
   "id": "35d3bd80",
   "metadata": {},
   "outputs": [
    {
     "data": {
      "text/plain": [
       "pid                         0\n",
       "product_name                0\n",
       "product_category_tree       0\n",
       "brand                    5864\n",
       "description                 2\n",
       "dtype: int64"
      ]
     },
     "execution_count": 5,
     "metadata": {},
     "output_type": "execute_result"
    }
   ],
   "source": [
    "#Checking for Null values\n",
    "product_df.isna().sum()"
   ]
  },
  {
   "cell_type": "markdown",
   "id": "f374d4ab",
   "metadata": {},
   "source": [
    "# Data Processing"
   ]
  },
  {
   "cell_type": "code",
   "execution_count": 6,
   "id": "9cdd558c",
   "metadata": {},
   "outputs": [],
   "source": [
    "# Converting product_category_tree into list\n",
    "\n",
    "import ast\n",
    "def categoryTreeToList(obj):\n",
    "    input_list = ast.literal_eval(obj)\n",
    "    input_string = input_list[0]\n",
    "    segments = [segment.strip() for segment in input_string.split(\">>\")]\n",
    "    return segments\n",
    "    "
   ]
  },
  {
   "cell_type": "code",
   "execution_count": 7,
   "id": "6ae2994d",
   "metadata": {},
   "outputs": [],
   "source": [
    "product_df[\"product_category_tree\"] = product_df[\"product_category_tree\"].apply(categoryTreeToList)"
   ]
  },
  {
   "cell_type": "code",
   "execution_count": 8,
   "id": "58e51f68",
   "metadata": {},
   "outputs": [
    {
     "data": {
      "text/plain": [
       "['Pet Supplies',\n",
       " 'Grooming',\n",
       " 'Skin & Coat Care',\n",
       " 'Shampoo',\n",
       " 'Sicons All Purpose Arnica Dog Shampoo (500 ml)']"
      ]
     },
     "execution_count": 8,
     "metadata": {},
     "output_type": "execute_result"
    }
   ],
   "source": [
    "product_df.iloc[4].product_category_tree"
   ]
  },
  {
   "cell_type": "code",
   "execution_count": 9,
   "id": "53ec661f",
   "metadata": {},
   "outputs": [
    {
     "data": {
      "text/plain": [
       "pid                      object\n",
       "product_name             object\n",
       "product_category_tree    object\n",
       "brand                    object\n",
       "description              object\n",
       "dtype: object"
      ]
     },
     "execution_count": 9,
     "metadata": {},
     "output_type": "execute_result"
    }
   ],
   "source": [
    "product_df.dtypes"
   ]
  },
  {
   "cell_type": "code",
   "execution_count": 10,
   "id": "b031db3c",
   "metadata": {},
   "outputs": [
    {
     "data": {
      "text/plain": [
       "\"Key Features of Alisha Solid Women's Cycling Shorts Cotton Lycra Navy, Red, Navy,Specifications of Alisha Solid Women's Cycling Shorts Shorts Details Number of Contents in Sales Package Pack of 3 Fabric Cotton Lycra Type Cycling Shorts General Details Pattern Solid Ideal For Women's Fabric Care Gentle Machine Wash in Lukewarm Water, Do Not Bleach Additional Details Style Code ALTHT_3P_21 In the Box 3 shorts\""
      ]
     },
     "execution_count": 10,
     "metadata": {},
     "output_type": "execute_result"
    }
   ],
   "source": [
    "product_df['description'][0]"
   ]
  },
  {
   "cell_type": "code",
   "execution_count": 11,
   "id": "06a5f30a",
   "metadata": {},
   "outputs": [
    {
     "name": "stderr",
     "output_type": "stream",
     "text": [
      "C:\\Users\\arpit\\AppData\\Local\\Temp\\ipykernel_17736\\247787489.py:3: FutureWarning: The default value of regex will change from True to False in a future version.\n",
      "  product_df['description'] = product_df['description'].str.replace('[^\\w\\s]','')\n"
     ]
    }
   ],
   "source": [
    "#Removing all special characters from description\n",
    "\n",
    "product_df['description'] = product_df['description'].str.replace('[^\\w\\s]','')\n"
   ]
  },
  {
   "cell_type": "code",
   "execution_count": 12,
   "id": "d6b64e7a",
   "metadata": {},
   "outputs": [],
   "source": [
    "# Function to convert object into list\n",
    "\n",
    "def convert_into_list(object):\n",
    "    list=[]\n",
    "    list=str(object).split()\n",
    "    return list"
   ]
  },
  {
   "cell_type": "code",
   "execution_count": 13,
   "id": "84ed1aeb",
   "metadata": {},
   "outputs": [],
   "source": [
    "product_df.description = product_df.description.apply(convert_into_list)"
   ]
  },
  {
   "cell_type": "code",
   "execution_count": 14,
   "id": "68146052",
   "metadata": {},
   "outputs": [],
   "source": [
    "product_df.brand = product_df.brand.apply(convert_into_list)"
   ]
  },
  {
   "cell_type": "code",
   "execution_count": 15,
   "id": "8f8bafd8",
   "metadata": {},
   "outputs": [
    {
     "data": {
      "text/html": [
       "<div>\n",
       "<style scoped>\n",
       "    .dataframe tbody tr th:only-of-type {\n",
       "        vertical-align: middle;\n",
       "    }\n",
       "\n",
       "    .dataframe tbody tr th {\n",
       "        vertical-align: top;\n",
       "    }\n",
       "\n",
       "    .dataframe thead th {\n",
       "        text-align: right;\n",
       "    }\n",
       "</style>\n",
       "<table border=\"1\" class=\"dataframe\">\n",
       "  <thead>\n",
       "    <tr style=\"text-align: right;\">\n",
       "      <th></th>\n",
       "      <th>pid</th>\n",
       "      <th>product_name</th>\n",
       "      <th>product_category_tree</th>\n",
       "      <th>brand</th>\n",
       "      <th>description</th>\n",
       "    </tr>\n",
       "  </thead>\n",
       "  <tbody>\n",
       "    <tr>\n",
       "      <th>0</th>\n",
       "      <td>SRTEH2FF9KEDEFGF</td>\n",
       "      <td>Alisha Solid Women's Cycling Shorts</td>\n",
       "      <td>[Clothing, Women's Clothing, Lingerie, Sleep &amp;...</td>\n",
       "      <td>[Alisha]</td>\n",
       "      <td>[Key, Features, of, Alisha, Solid, Womens, Cyc...</td>\n",
       "    </tr>\n",
       "    <tr>\n",
       "      <th>1</th>\n",
       "      <td>SBEEH3QGU7MFYJFY</td>\n",
       "      <td>FabHomeDecor Fabric Double Sofa Bed</td>\n",
       "      <td>[Furniture, Living Room Furniture, Sofa Beds &amp;...</td>\n",
       "      <td>[FabHomeDecor]</td>\n",
       "      <td>[FabHomeDecor, Fabric, Double, Sofa, Bed, Fini...</td>\n",
       "    </tr>\n",
       "    <tr>\n",
       "      <th>2</th>\n",
       "      <td>SHOEH4GRSUBJGZXE</td>\n",
       "      <td>AW Bellies</td>\n",
       "      <td>[Footwear, Women's Footwear, Ballerinas, AW Be...</td>\n",
       "      <td>[AW]</td>\n",
       "      <td>[Key, Features, of, AW, Bellies, Sandals, Wedg...</td>\n",
       "    </tr>\n",
       "    <tr>\n",
       "      <th>3</th>\n",
       "      <td>SRTEH2F6HUZMQ6SJ</td>\n",
       "      <td>Alisha Solid Women's Cycling Shorts</td>\n",
       "      <td>[Clothing, Women's Clothing, Lingerie, Sleep &amp;...</td>\n",
       "      <td>[Alisha]</td>\n",
       "      <td>[Key, Features, of, Alisha, Solid, Womens, Cyc...</td>\n",
       "    </tr>\n",
       "    <tr>\n",
       "      <th>4</th>\n",
       "      <td>PSOEH3ZYDMSYARJ5</td>\n",
       "      <td>Sicons All Purpose Arnica Dog Shampoo</td>\n",
       "      <td>[Pet Supplies, Grooming, Skin &amp; Coat Care, Sha...</td>\n",
       "      <td>[Sicons]</td>\n",
       "      <td>[Specifications, of, Sicons, All, Purpose, Arn...</td>\n",
       "    </tr>\n",
       "  </tbody>\n",
       "</table>\n",
       "</div>"
      ],
      "text/plain": [
       "                pid                           product_name  \\\n",
       "0  SRTEH2FF9KEDEFGF    Alisha Solid Women's Cycling Shorts   \n",
       "1  SBEEH3QGU7MFYJFY    FabHomeDecor Fabric Double Sofa Bed   \n",
       "2  SHOEH4GRSUBJGZXE                             AW Bellies   \n",
       "3  SRTEH2F6HUZMQ6SJ    Alisha Solid Women's Cycling Shorts   \n",
       "4  PSOEH3ZYDMSYARJ5  Sicons All Purpose Arnica Dog Shampoo   \n",
       "\n",
       "                               product_category_tree           brand  \\\n",
       "0  [Clothing, Women's Clothing, Lingerie, Sleep &...        [Alisha]   \n",
       "1  [Furniture, Living Room Furniture, Sofa Beds &...  [FabHomeDecor]   \n",
       "2  [Footwear, Women's Footwear, Ballerinas, AW Be...            [AW]   \n",
       "3  [Clothing, Women's Clothing, Lingerie, Sleep &...        [Alisha]   \n",
       "4  [Pet Supplies, Grooming, Skin & Coat Care, Sha...        [Sicons]   \n",
       "\n",
       "                                         description  \n",
       "0  [Key, Features, of, Alisha, Solid, Womens, Cyc...  \n",
       "1  [FabHomeDecor, Fabric, Double, Sofa, Bed, Fini...  \n",
       "2  [Key, Features, of, AW, Bellies, Sandals, Wedg...  \n",
       "3  [Key, Features, of, Alisha, Solid, Womens, Cyc...  \n",
       "4  [Specifications, of, Sicons, All, Purpose, Arn...  "
      ]
     },
     "execution_count": 15,
     "metadata": {},
     "output_type": "execute_result"
    }
   ],
   "source": [
    "product_df.head()\n"
   ]
  },
  {
   "cell_type": "markdown",
   "id": "7085c28a",
   "metadata": {},
   "source": [
    "# Content Based Model Building"
   ]
  },
  {
   "cell_type": "code",
   "execution_count": 16,
   "id": "312e4807",
   "metadata": {},
   "outputs": [],
   "source": [
    "#Making Tags\n",
    "\n",
    "product_df['tags'] =   product_df['product_category_tree'] + product_df['brand'] + product_df['description']"
   ]
  },
  {
   "cell_type": "code",
   "execution_count": 17,
   "id": "2a0d5a7e",
   "metadata": {},
   "outputs": [],
   "source": [
    "new_product_df = product_df[['pid' ,'product_name', 'tags']]"
   ]
  },
  {
   "cell_type": "code",
   "execution_count": 18,
   "id": "e45116af",
   "metadata": {},
   "outputs": [
    {
     "name": "stderr",
     "output_type": "stream",
     "text": [
      "C:\\Users\\arpit\\AppData\\Local\\Temp\\ipykernel_17736\\212452052.py:1: SettingWithCopyWarning: \n",
      "A value is trying to be set on a copy of a slice from a DataFrame.\n",
      "Try using .loc[row_indexer,col_indexer] = value instead\n",
      "\n",
      "See the caveats in the documentation: https://pandas.pydata.org/pandas-docs/stable/user_guide/indexing.html#returning-a-view-versus-a-copy\n",
      "  new_product_df['tags'] = new_product_df['tags'].apply(lambda x:\" \".join(x))\n"
     ]
    }
   ],
   "source": [
    "new_product_df['tags'] = new_product_df['tags'].apply(lambda x:\" \".join(x))"
   ]
  },
  {
   "cell_type": "code",
   "execution_count": 19,
   "id": "5bf8b008",
   "metadata": {},
   "outputs": [
    {
     "data": {
      "text/html": [
       "<div>\n",
       "<style scoped>\n",
       "    .dataframe tbody tr th:only-of-type {\n",
       "        vertical-align: middle;\n",
       "    }\n",
       "\n",
       "    .dataframe tbody tr th {\n",
       "        vertical-align: top;\n",
       "    }\n",
       "\n",
       "    .dataframe thead th {\n",
       "        text-align: right;\n",
       "    }\n",
       "</style>\n",
       "<table border=\"1\" class=\"dataframe\">\n",
       "  <thead>\n",
       "    <tr style=\"text-align: right;\">\n",
       "      <th></th>\n",
       "      <th>pid</th>\n",
       "      <th>product_name</th>\n",
       "      <th>tags</th>\n",
       "    </tr>\n",
       "  </thead>\n",
       "  <tbody>\n",
       "    <tr>\n",
       "      <th>0</th>\n",
       "      <td>SRTEH2FF9KEDEFGF</td>\n",
       "      <td>Alisha Solid Women's Cycling Shorts</td>\n",
       "      <td>Clothing Women's Clothing Lingerie, Sleep &amp; Sw...</td>\n",
       "    </tr>\n",
       "    <tr>\n",
       "      <th>1</th>\n",
       "      <td>SBEEH3QGU7MFYJFY</td>\n",
       "      <td>FabHomeDecor Fabric Double Sofa Bed</td>\n",
       "      <td>Furniture Living Room Furniture Sofa Beds &amp; Fu...</td>\n",
       "    </tr>\n",
       "    <tr>\n",
       "      <th>2</th>\n",
       "      <td>SHOEH4GRSUBJGZXE</td>\n",
       "      <td>AW Bellies</td>\n",
       "      <td>Footwear Women's Footwear Ballerinas AW Bellie...</td>\n",
       "    </tr>\n",
       "    <tr>\n",
       "      <th>3</th>\n",
       "      <td>SRTEH2F6HUZMQ6SJ</td>\n",
       "      <td>Alisha Solid Women's Cycling Shorts</td>\n",
       "      <td>Clothing Women's Clothing Lingerie, Sleep &amp; Sw...</td>\n",
       "    </tr>\n",
       "    <tr>\n",
       "      <th>4</th>\n",
       "      <td>PSOEH3ZYDMSYARJ5</td>\n",
       "      <td>Sicons All Purpose Arnica Dog Shampoo</td>\n",
       "      <td>Pet Supplies Grooming Skin &amp; Coat Care Shampoo...</td>\n",
       "    </tr>\n",
       "  </tbody>\n",
       "</table>\n",
       "</div>"
      ],
      "text/plain": [
       "                pid                           product_name  \\\n",
       "0  SRTEH2FF9KEDEFGF    Alisha Solid Women's Cycling Shorts   \n",
       "1  SBEEH3QGU7MFYJFY    FabHomeDecor Fabric Double Sofa Bed   \n",
       "2  SHOEH4GRSUBJGZXE                             AW Bellies   \n",
       "3  SRTEH2F6HUZMQ6SJ    Alisha Solid Women's Cycling Shorts   \n",
       "4  PSOEH3ZYDMSYARJ5  Sicons All Purpose Arnica Dog Shampoo   \n",
       "\n",
       "                                                tags  \n",
       "0  Clothing Women's Clothing Lingerie, Sleep & Sw...  \n",
       "1  Furniture Living Room Furniture Sofa Beds & Fu...  \n",
       "2  Footwear Women's Footwear Ballerinas AW Bellie...  \n",
       "3  Clothing Women's Clothing Lingerie, Sleep & Sw...  \n",
       "4  Pet Supplies Grooming Skin & Coat Care Shampoo...  "
      ]
     },
     "execution_count": 19,
     "metadata": {},
     "output_type": "execute_result"
    }
   ],
   "source": [
    "new_product_df.head()"
   ]
  },
  {
   "cell_type": "code",
   "execution_count": 20,
   "id": "a4ba57f4",
   "metadata": {},
   "outputs": [
    {
     "data": {
      "text/plain": [
       "\"Clothing Women's Clothing Lingerie, Sleep & Swimwear Shorts Alisha Shorts Alisha Solid Women's Cycling Shorts Alisha Key Features of Alisha Solid Womens Cycling Shorts Cotton Lycra Navy Red NavySpecifications of Alisha Solid Womens Cycling Shorts Shorts Details Number of Contents in Sales Package Pack of 3 Fabric Cotton Lycra Type Cycling Shorts General Details Pattern Solid Ideal For Womens Fabric Care Gentle Machine Wash in Lukewarm Water Do Not Bleach Additional Details Style Code ALTHT_3P_21 In the Box 3 shorts\""
      ]
     },
     "execution_count": 20,
     "metadata": {},
     "output_type": "execute_result"
    }
   ],
   "source": [
    "new_product_df['tags'][0]"
   ]
  },
  {
   "cell_type": "code",
   "execution_count": 21,
   "id": "0c646cb2",
   "metadata": {},
   "outputs": [
    {
     "name": "stderr",
     "output_type": "stream",
     "text": [
      "C:\\Users\\arpit\\AppData\\Local\\Temp\\ipykernel_17736\\1082417403.py:3: SettingWithCopyWarning: \n",
      "A value is trying to be set on a copy of a slice from a DataFrame.\n",
      "Try using .loc[row_indexer,col_indexer] = value instead\n",
      "\n",
      "See the caveats in the documentation: https://pandas.pydata.org/pandas-docs/stable/user_guide/indexing.html#returning-a-view-versus-a-copy\n",
      "  new_product_df['tags'] = new_product_df['tags'].apply(lambda x:x.lower())\n"
     ]
    }
   ],
   "source": [
    "#converting into lower case\n",
    "\n",
    "new_product_df['tags'] = new_product_df['tags'].apply(lambda x:x.lower())"
   ]
  },
  {
   "cell_type": "code",
   "execution_count": 22,
   "id": "a4f381bc",
   "metadata": {},
   "outputs": [
    {
     "data": {
      "text/html": [
       "<div>\n",
       "<style scoped>\n",
       "    .dataframe tbody tr th:only-of-type {\n",
       "        vertical-align: middle;\n",
       "    }\n",
       "\n",
       "    .dataframe tbody tr th {\n",
       "        vertical-align: top;\n",
       "    }\n",
       "\n",
       "    .dataframe thead th {\n",
       "        text-align: right;\n",
       "    }\n",
       "</style>\n",
       "<table border=\"1\" class=\"dataframe\">\n",
       "  <thead>\n",
       "    <tr style=\"text-align: right;\">\n",
       "      <th></th>\n",
       "      <th>pid</th>\n",
       "      <th>product_name</th>\n",
       "      <th>tags</th>\n",
       "    </tr>\n",
       "  </thead>\n",
       "  <tbody>\n",
       "    <tr>\n",
       "      <th>0</th>\n",
       "      <td>SRTEH2FF9KEDEFGF</td>\n",
       "      <td>Alisha Solid Women's Cycling Shorts</td>\n",
       "      <td>clothing women's clothing lingerie, sleep &amp; sw...</td>\n",
       "    </tr>\n",
       "    <tr>\n",
       "      <th>1</th>\n",
       "      <td>SBEEH3QGU7MFYJFY</td>\n",
       "      <td>FabHomeDecor Fabric Double Sofa Bed</td>\n",
       "      <td>furniture living room furniture sofa beds &amp; fu...</td>\n",
       "    </tr>\n",
       "    <tr>\n",
       "      <th>2</th>\n",
       "      <td>SHOEH4GRSUBJGZXE</td>\n",
       "      <td>AW Bellies</td>\n",
       "      <td>footwear women's footwear ballerinas aw bellie...</td>\n",
       "    </tr>\n",
       "    <tr>\n",
       "      <th>3</th>\n",
       "      <td>SRTEH2F6HUZMQ6SJ</td>\n",
       "      <td>Alisha Solid Women's Cycling Shorts</td>\n",
       "      <td>clothing women's clothing lingerie, sleep &amp; sw...</td>\n",
       "    </tr>\n",
       "    <tr>\n",
       "      <th>4</th>\n",
       "      <td>PSOEH3ZYDMSYARJ5</td>\n",
       "      <td>Sicons All Purpose Arnica Dog Shampoo</td>\n",
       "      <td>pet supplies grooming skin &amp; coat care shampoo...</td>\n",
       "    </tr>\n",
       "  </tbody>\n",
       "</table>\n",
       "</div>"
      ],
      "text/plain": [
       "                pid                           product_name  \\\n",
       "0  SRTEH2FF9KEDEFGF    Alisha Solid Women's Cycling Shorts   \n",
       "1  SBEEH3QGU7MFYJFY    FabHomeDecor Fabric Double Sofa Bed   \n",
       "2  SHOEH4GRSUBJGZXE                             AW Bellies   \n",
       "3  SRTEH2F6HUZMQ6SJ    Alisha Solid Women's Cycling Shorts   \n",
       "4  PSOEH3ZYDMSYARJ5  Sicons All Purpose Arnica Dog Shampoo   \n",
       "\n",
       "                                                tags  \n",
       "0  clothing women's clothing lingerie, sleep & sw...  \n",
       "1  furniture living room furniture sofa beds & fu...  \n",
       "2  footwear women's footwear ballerinas aw bellie...  \n",
       "3  clothing women's clothing lingerie, sleep & sw...  \n",
       "4  pet supplies grooming skin & coat care shampoo...  "
      ]
     },
     "execution_count": 22,
     "metadata": {},
     "output_type": "execute_result"
    }
   ],
   "source": [
    "new_product_df.head()"
   ]
  },
  {
   "cell_type": "code",
   "execution_count": 24,
   "id": "b0d4f61b",
   "metadata": {},
   "outputs": [],
   "source": [
    "# Importing the Porter Stemmer library for text stemming\n",
    "\n",
    "import nltk \n",
    "from nltk.stem.porter import PorterStemmer\n",
    "ps = PorterStemmer()"
   ]
  },
  {
   "cell_type": "code",
   "execution_count": 25,
   "id": "36d6112e",
   "metadata": {},
   "outputs": [],
   "source": [
    "# stemming operations reduces words to their root form\n",
    "\n",
    "def stem(text):\n",
    "    y = []\n",
    "    \n",
    "    for i in text.split():\n",
    "        y.append(ps.stem(i))\n",
    "    return \" \".join(y)"
   ]
  },
  {
   "cell_type": "code",
   "execution_count": 26,
   "id": "c787d343",
   "metadata": {},
   "outputs": [
    {
     "name": "stderr",
     "output_type": "stream",
     "text": [
      "C:\\Users\\arpit\\AppData\\Local\\Temp\\ipykernel_17736\\4138967456.py:1: SettingWithCopyWarning: \n",
      "A value is trying to be set on a copy of a slice from a DataFrame.\n",
      "Try using .loc[row_indexer,col_indexer] = value instead\n",
      "\n",
      "See the caveats in the documentation: https://pandas.pydata.org/pandas-docs/stable/user_guide/indexing.html#returning-a-view-versus-a-copy\n",
      "  new_product_df['tags'] = new_product_df['tags'].apply(stem)\n"
     ]
    }
   ],
   "source": [
    "new_product_df['tags'] = new_product_df['tags'].apply(stem)"
   ]
  },
  {
   "cell_type": "markdown",
   "id": "96803146",
   "metadata": {},
   "source": [
    "# Calculating Product Similarities"
   ]
  },
  {
   "cell_type": "code",
   "execution_count": 27,
   "id": "09fcdd65",
   "metadata": {},
   "outputs": [],
   "source": [
    "#Importing the CountVectorizer library for text vectorization.\n",
    "\n",
    "from sklearn.feature_extraction.text import CountVectorizer\n",
    "\n",
    "#To count 5000 most frequent words\n",
    "\n",
    "cv = CountVectorizer(max_features=5000 , stop_words='english')"
   ]
  },
  {
   "cell_type": "code",
   "execution_count": 28,
   "id": "cfa2a46e",
   "metadata": {},
   "outputs": [],
   "source": [
    "# Using CountVectorizer, convert text data into a sparse matrix of token counts.\n",
    "\n",
    "vectors = cv.fit_transform(new_product_df['tags']).toarray()"
   ]
  },
  {
   "cell_type": "code",
   "execution_count": 29,
   "id": "c8ab9210",
   "metadata": {},
   "outputs": [
    {
     "data": {
      "text/plain": [
       "array([0, 0, 0, ..., 0, 0, 0], dtype=int64)"
      ]
     },
     "execution_count": 29,
     "metadata": {},
     "output_type": "execute_result"
    }
   ],
   "source": [
    "vectors[0]"
   ]
  },
  {
   "cell_type": "code",
   "execution_count": 32,
   "id": "db3afea3",
   "metadata": {},
   "outputs": [
    {
     "data": {
      "text/plain": [
       "dict_keys(['cloth', 'women', 'lingerie', 'sleep', 'swimwear', 'short', 'alisha', 'solid', 'cycl', 'key', 'featur', 'cotton', 'lycra', 'navi', 'red', 'number', 'content', 'sale', 'packag', 'pack', 'fabric', 'type', 'gener', 'pattern', 'ideal', 'care', 'gentl', 'machin', 'wash', 'lukewarm', 'water', 'bleach', 'addit', 'style', 'code', 'box', 'furnitur', 'live', 'room', 'sofa', 'bed', 'fabhomedecor', 'doubl', 'finish', 'color', 'leatherett', 'black', 'mechan', 'pull', 'price', 'rs', 'fine', 'deep', 'seat', 'experi', 'save', 'space', 'new', 'click', 'easi', 'fold', 'versa', 'simpl', 'chrome', 'leg', 'mango', 'wood', 'frame', 'long', 'term', 'durabl', 'cushion', 'provid', 'extra', 'soft', 'make', 'easili', 'instal', 'demo', 'thi', 'product', 'free', 'cost', 'purchas', 'servic', 'partner', 'visit', 'locat', '72', 'busi', 'hour', 'deliveri', 'brand', 'mattress', 'includ', 'condit', 'knock', 'storag', 'contemporari', 'modern', 'materi', 'microfib', 'capac', 'seater', 'upholsteri', 'na', 'size', 'shape', 'squar', 'suitabl', 'model', 'instruct', 'avoid', 'outdoor', 'use', 'exposur', 'prolong', 'moistur', 'direct', 'heat', 'sunlight', 'caus', 'colour', 'fade', 'sharp', 'object', 'away', 'littl', 'tear', 'cover', 'hard', 'repair', 'vacuum', 'period', 'bristl', 'brush', 'attach', 'lightli', 'dirt', 'dust', 'prevent', 'ani', 'embed', 'fibr', 'tri', 'food', 'drink', 'kind', 'spill', 'occur', 'leav', 'case', 'stain', 'cleaner', 'howev', 'appli', 'directli', 'damag', 'clean', 'test', 'effect', 'hidden', 'area', 'befor', 'profession', 'treatment', 'option', 'protect', 'pet', 'hair', 'bay', 'onc', 'everi', '68', 'month', 'onli', 'corner', 'reach', 'matt', 'import', 'note', 'cancel', 'allow', '24', 'hr', 'order', 'book', 'warranti', 'manufactur', 'defect', 'concern', 'replac', 'base', 'summari', 'domest', 'doe', 'improp', 'handl', 'dimens', 'weight', '40', 'kg', 'height', 'mm', 'width', 'depth', 'disclaim', 'vari', 'slightli', 'compar', 'pictur', 'display', 'screen', 'light', 'pixel', 'qualiti', 'set', 'pleas', 'check', 'ensur', 'fit', 'desir', 'throughview', 'entranc', 'door', 'premis', 'expect', 'uneven', 'differ', 'surfac', 'floor', 'level', 'flipkart', 'seller', 'deliv', 'civil', 'work', 'drill', 'hole', 'wall', 'mount', 'assembl', 'carpentri', 'requir', 'appear', 'lack', 'shine', 'wipe', 'help', 'clear', 'particl', 'primari', 'secondari', 'subtyp', 'foam', 'footwear', 'ballerina', 'aw', 'belli', 'sandal', 'wedg', 'heel', '499', 'synthet', 'lifestyl', 'casual', '30', 'day', 'pair', 'shoe', 'air', 'deodor', 'regular', 'basi', 'bag', 'dri', 'polish', 'occas', 'outer', 'patent', 'leather', 'inch', 'suppli', 'groom', 'skin', 'coat', 'shampoo', 'sicon', 'purpos', 'dog', '500', 'ml', 'specif', 'quantiti', 'fragranc', 'form', 'factor', 'liquid', 'fashion', 'etern', 'super', 'seri', 'crystal', 'paper', 'silver', '5cm', 'beauti', '430', 'offic', 'desk', 'sparkl', 'accent', 'tabl', 'eleg', 'bust', 'hi', 'timeless', 'messag', 'life', 'mk', 'gift', 'near', 'dear', 'famili', 'mark', 'white', 'brown', 'corpor', 'ethnic', 'parti', 'formal', 'pink', '0specif', '200', 'singl', 'depend', '950', 'best', 'hous', 'feet', 'cozi', 'activ', 'pu', 'sport', 'gym', 'wear', 'swimsuit', 'carrel', 'print', '910', 'collect', 'brighten', 'swim', 'routin', 'costum', 'come', 'ha', 'separ', 'shade', 'attract', 'classi', 'excel', 'chlorin', 'resist', 'fast', 'combin', 'stitch', 'unmatch', 'comfort', 'perform', 'strive', 'perfect', 'companion', 'beach', 'time', 'thing', 'flow', 'pad', 'support', 'xl', 'xxl', 'neck', 'round', 'similar', 'deterg', 'tea', 'tree', 'spray', 'bath', 'urban', 'pen', 'stationeri', 'school', 'bottl', '350', 'green', 'bodi', 'stainless', 'steel', 'pc', 'packet', 'whitespecif', 'purpl', 'foot', '449', 'perfectli', 'wearspecif', 'slipper', 'dark', 'blue', '999', 'gel', 'condition', 'alo', 'buy', 'onlin', 'india', 'shop', 'apparel', 'huge', 'flipkartcom', 'kids', 'boy', 'polo', 'shirt', 'dongli', 'tshirt', 'sleev', 'half', 'clog', 'toy', 'rubber', 'bell', 'small', 'ship', 'cash', 'genuin', 'guarante', 'lingeri', 'glu', 'nan', 'wed', 'turquois', '1299', 'skate', 'shini', 'roller', '45', '2499', 'person', 'makeup', 'vaniti', 'jewelleri', 'fusion', 'jeg', 'parrot', '699', 'men', 'cargos', '4th', 'cargo', '2199', 'bengal', 'bloom', 'rose', 'artifici', 'plant', 'pot', 'assort', 'cm', 'multicolor', 'decor', 'home', 'flower', 'wonder', 'bonsai', 'ye', 'total', 'lehenga', 'choli', 'indcrown', 'net', 'embroid', 'semi', 'semistitch', 'dupatta', 'sell', 'origin', 'els', 'normal', 'hand', 'indian', 'tradit', 'ware', 'known', 'loung', 'offer', 'compliment', 'worn', 'function', 'festiv', 'view', 'unstitch', 'accord', 'tast', 'prefer', 'stun', 'self', 'design', 'partywear', 'salwar', 'suit', 'trendi', 'look', 'embroideri', 'season', 'diari', 'notebook', 'shopmania', 'music', 'band', 'a5', 'spiral', 'bound', 'rule', 'id', 'gsm', '75', '300', 'lamin', 'page', '160', 'bind', 'length', 'special', 'notepad', 'write', 'tiara', '2016', 'la', 'action', 'result', 'coffe', 'waistcoat', 'art', 'silk', 'secur', '10', 'jacket', 'courier', 'compani', 'world', 'intern', 'ecommerc', 'standard', 'factori', '60', 'high', 'longer', '100', 'bubbl', 'wrap', 'present', 'tamper', 'proof', 'plastic', 'avail', 'grey', '600', 'contain', 'pick', 'pocket', 'line', 'polyest', 'bags', 'wallet', 'belt', 'pouch', 'potli', '399', 'fanci', 'lace', 'stylish', 'closur', 'velcro', 'girl', 'compart', 'dungare', 'jumpsuit', 'oye', 'canva', '05', 'need', 'showpiec', 'gramophon', 'om', 'clock', '38', '381', 'mach', '1499', 'bring', 'watch', 'décor', 'antiqu', 'automot', 'accessori', 'spare', 'car', 'interior', 'exterior', 'sun', 'himmlisch', 'magnet', 'maruti', 'alto', 'window', '1899', 'beat', 'summer', 'feel', 'like', 'sunshad', 'creat', 'mesh', 'layer', 'stop', 'border', 'stick', 'edg', 'suction', 'cup', 'block', 'uv', 'ray', 'cool', 'remov', 'exact', 'complet', 'privaci', 'placement', 'posit', '11', 'tool', 'hardwar', 'electr', 'wire', 'joint', 'connector', 'bnc', '179', '1400', 'brass', 'maintain', 'proper', 'coaxial', 'cabl', 'lock', 'femal', 'perman', 'camera', 'etcspecif', 'connect', 'circuit', 'board', 'waterproof', 'corros', 'vishudh', 'straight', 'kurta', 'sleeveless', 'anarkali', 'wireless', 'motion', 'sensor', 'switch', 'control', 'nation', 'award', 'win', 'batteri', 'freeli', 'place', 'low', 'power', '5000', 'turn', 'exist', 'return', 'ceil', 'energi', 'lower', 'highli', 'bank', 'add', 'conveni', 'quick', 'devic', 'multipl', 'aesthet', 'chang', 'extern', 'adjust', 'video', 'angl', '360', 'degre', 'industri', 'wiredwireless', 'plug', 'play', 'simpli', 'alarm', 'maximum', 'distanc', 'minimum', 'rang', 'ft', 'year', 'user', 'manual', 'card', 'technolog', 'skayvon', 'phase', 'pump', 'run', 'voltag', 'auto', 'start', 'tank', 'choic', 'indic', 'ivori', 'led', 'masara', '599', 'knee', 'kurti', 'subtl', 'transform', 'die', '34', '64', '899', 'stand', 'certif', 'analog', 'sound', 'mixer', 'applic', 'channel', 'equal', '15', 'limit', 'custom', 'send', 'author', 'centr', 'problem', 'consumpt', '50', 'ac', '550', 'just', 'garden', 'bold', 'floral', 'effortlessli', 'coordin', 'natur', 'outfit', 'bright', 'pastel', 'grace', 'winter', 'cardigan', 'roadster', 'zipper', 'acryl', 'western', 'oliv', 'collar', 'zip', 'insert', 'rib', 'chill', 'team', 'jean', 'head', 'machinewash', 'cold', 'maroon', 'rayon', 'plum', 'liba', 'lin', 'alin', 'chanderi', 'chines', 'boat', 'dont', 'dainti', 'defin', 'intens', 'impress', 'varieti', 'hue', 'select', 'chunki', 'necklac', 'ring', 'tone', 'cricket', 'ultim', 'chest', 'right', '395', 'mould', 'hd', 'face', 'inner', '180', 'revers', 'punch', 'pin', 'buckl', '250', 'club', 'thigh', 'econom', 'elast', '170', 'ny', '695', 'recognis', 'dress', 'sens', 'trouser', 'fabul', 'man', 'invest', '28', 'loop', 'furnish', 'curtain', 'abstract', 'eyelet', '213', 'enhanc', 'metal', 'environ', 'romant', 'wrinkl', 'anti', 'appeal', 'attent', 'sure', 'steal', 'heart', 'slide', 'smoothli', 'draw', 'apart', 'morn', 'welcom', 'want', 'wish', 'good', 'close', 'moment', 'given', 'sooth', 'filter', 'liza', 'exclus', 'definit', 'mild', 'damp', 'elbow', '230', 'babi', 'towel', 'yellow', 'washabl', 'terri', '20', 'piec', '299', 'export', 'textur', 'enrich', 'deserv', 'lot', 'famou', 'absorb', 'iron', 'flat', '23', 'linen', 'bedsheet', 'santosh', 'royal', 'king', 'pillow', 'gold', 'sheet', '90', '228', '16', '43', '280', '110', 'mobil', 'panel', 'cased', 'microsoft', 'nokia', 'lumia', 'compat', '14', 'shirts', 'tunic', 'orang', 'slim', 'shirtspecif', 'placket', 'classic', 'jaipur', 'nice', 'thread', 'count', '140', 'exchang', '86', '220', '17', '29', '900', '02', '265', 'colleg', 'coin', 'charact', 'infant', 'boys', 'combo', 'babeezworld', 'handicraft', 'religi', 'idol', 'redbag', 'arm', 'goddess', '1016', '850', '508', 'figurin', 'nutrit', 'health', 'supplement', 'flavor', 'usag', 'scoop', 'jar', 'serv', 'composit', 'mg', 'shelf', '18', 'inform', 'websit', 'read', 'label', 'physic', 'contact', 'checker', '750', 'denim', 'wrist', 'pari', 'great', 'discount', 'boot', '1995', 'digit', '595', 'dial', 'strap', 'daili', 'minut', 'second', 'date', 'week', '1224', 'intim', '48', 'photograph', 'sourc', 'monitor', 'imag', 'enlarg', 'better', 'rs449', 'reckler', 'quechua', 'step', 'glanc', 'walk', 'touch', 'flaunt', 'catwalk', '2099', 'star', 'way', 'travel', 'sophist', 'class', 'suav', 'intric', 'rest', 'rialto', 'kielz', 'ladi', '1249', 'youth', 'citi', 'prayer', '2299', 'tag', 'formula', 'quartz', 'movement', 'scratch', 'sapphir', 'glass', 'chronograph', 'salt', 'pepper', 'femm', 'let', 'diva', 'breath', 'upper', 'sole', 'sleek', 'flexibl', 'attir', 'astonish', 'everyon', 'wrangler', 'latest', 'trend', 'catch', 'vogu', 'swiss', '44', '01', '44mm', 'fli', 'fish', 'fulli', 'central', 'accur', 'ratchet', 'scale', 'speed', 'measur', 'achiev', 'analogdigit', 'statement', 'understand', 'abl', 'wide', 'approach', 'veri', 'execut', 'lead', 'everyth', 'matter', 'glamr', 'fluid', 'clasp', 'rectangl', 'craft', 'resin', 'sheer', 'essenti', 'button', 'waistband', 'left', 'contrast', 'insid', 'yoke', 'patch', 'stylist', 'chic', 'tee', 'crop', 'complement', 'disney', 'rs350', 'maxi', '1599', 'rs399', '39', '2399', 'countri', '3499', 'kool', 'kidz', 'franck', 'bella', '1099', '03', 'stella', 'mile', '3999', 'basic', 'rs899', 'uniqu', 'timer', 'rs549', 'ne', '4999', '1149', 'numer', '1695', 'selfi', 'pep', 'ad', 'beig', 'glossi', 'superior', 'silhouett', 'grab', 'rich', 'construct', 'comfi', 'furthermor', 'eas', 'everyday', 'ensembl', 'augment', 'clincher', 'jewelri', 'fresh', 'arriv', 'mantra', 'hit', 'street', 'thank', 'upto', 'lee', '1199', 'estilo', 'rs299', 'jack', 'klein', 'north', 'moon', 'silicon', 'ion', 'candi', '1699', 'appl', 'skmei', 'anand', 'archi', 'finest', 'highest', 'consum', 'overal', 'skinni', 'indigo', 'uncomfort', 'opt', 'midi', 'skirt', '1999', 'london', 'rs249', 'dual', 'rs600', 'rs1350', 'remson', '132', '1800', 'italia', 'mind', 'peopl', 'sensit', 'golden', 'mainstay', 'becaus', 'curv', 'lifetim', 'klaur', 'melbourn', 'rs999', 'bhai', 'smart', 'temperatur', 'automat', 'mode', 'commit', 'convert', 'idea', 'masterpiec', 'tan', 'mid', '1895', 'dazzl', 'exud', 'structur', 'reveal', 'movi', 'fastrack', 'rug', 'increas', 'shock', 'precis', 'avon', 'crazi', 'pop', 'breathabl', 'compass', 'calcul', 'rs599', 'coupl', 'premium', 'tsg', 'rs995', 'japanes', 'luxuri', 'christma', '1900', 'almond', '1795', 'rs795', 'rs950', 'feminin', 'pretti', 'accentu', 'marvel', 'rs499', 'rust', 'big', 'rs750', '1799', 'digi', 'rs650', 'golf', 'ball', 'ezyprnt', '26', '426', 'diamet', 'laser', 'lover', 'wooden', 'glove', 'diwan', 'excit', 'item', 'promis', 'bolster', '88', '225', '59', '150', 'soak', 'eccellent', 'hip', 'cap', 'hat', 'sunglass', 'suspend', 'bow', 'tie', 'umbrella', 'market', 'categori', 'abov', 'lookspecif', '450', 'kit', 'senior', 'comb', 'age', 'grip', 'wheel', 'readi', 'carri', 'safeti', '205', '245', 'sturdi', 'screw', 'train', '25', 'recommend', 'helmet', 'guard', 'magic', 'fairi', 'adorn', 'cute', 'brooch', 'pleat', 'woman', '400', 'acm', 'swipe', 'elit', 'plu', 'safe', 'harm', 'impact', 'profil', 'scrape', 'mean', 'associ', 'tough', 'withstand', 'daytoday', 'blemish', 'stay', 'flip', 'instrument', 'enterpris', 'cow', 'min', 'yr', 'group', 'shown', '247', 'anoth', 'extrem', 'pvc', 'loafer', '1specif', 'duvet', 'queen', '210', '274', '229', 'intex', 'aqua', 'lion', '3g', 'purple', 'bangles', 'bracelet', 'armlet', 'alloy', 'pearl', 'preciousartifici', 'chain', 'broad', 'bangl', 'diamond', 'ct', 'grade', 'clariti', 'puriti', 'gemston', 'plate', 'taj', 'cuff', 'stretchabl', 'engag', 'musthav', 'beginn', 'bento', 'teddi', 'bear', 'stuff', 'sweatshirt', 'wake', 'competit', 'stripe', 'hood', 'kangaroo', 'hoodi', 'fleec', 'till', 'sneaker', 'hang', 'tumbl', 'blackberri', 'lcd', '1000', 'satisfi', 'charg', 'descript', 'old', 'phone', 'broken', 'strong', 'henc', 'confid', 'entertain', 'sticker', 'satisfact', 'happi', 'alway', 'prime', 'reason', 'feedback', 'share', 'valuabl', 'receiv', 'suggest', 'actual', 'seek', 'break', 'request', 'prior', 'dressberri', 'clutch', 'goldton', 'bead', 'flap', 'mouth', 'detach', 'main', 'slip', 'mast', 'harbour', 'sling', 'versatil', 'quotient', 'sever', 'jqr', 'amaz', 'vivid', 'point', 'today', '840', 'poli', 'stole', 'jazz', 'dash', 'scarf', 'knight', 'ace', 'tip', 'embellish', 'stud', 'elegantli', 'scarv', 'wool', 'viscos', 'ruffl', 'yarn', 'booti', 'blend', 'produc', 'productspecif', '76', 'indistar', '239', 'forward', 'lightweight', 'plain', 'distinct', 'eva', 'duti', 'satin', 'spaciou', 'larg', 'goe', '340', 'properti', 'cooler', 'seamless', 'reduc', 'irrit', 'friction', 'seam', 'dure', 'plane', 'transit', 'guidanc', 'link', 'strike', 'integr', 'effici', 'vertic', 'flex', 'independ', 'tension', 'version', 'ampl', 'unit', 'improv', 'geometri', 'enjoy', 'smooth', 'ride', '09', 'island', '22', 'plush', 'manag', 'dynam', 'upgrad', 'current', 'distribut', 'pressur', 'stabil', 'stretch', 'snug', 'balanc', 'true', 'heritag', 'built', 'adapt', 'moder', 'treat', 'sit', 'stabl', '309', 'flash', 'cutout', 'mint', 'amp', 'match', 'utmost', 'love', 'designspecif', 'matern', 'flare', '310', '112', 'cmspecif', 'wind', 'turbo', 'lite', 'bat', 'finger', 'contour', 'puls', 'split', 'multi', 'pre', 'leagu', 'orient', 'palm', 'bud', 'young', 'optim', 'learn', 'remain', 'powder', '12', 'gram', 'candl', 'aroma', 'oil', 'diffus', 'pure', 'relax', 'freshen', 'svt', 'ada', '795', 'charm', 'afford', 'consciou', 'asian', 'gem', 'jewel', 'dhaatu', 'amethyst', 'tassel', '249', 'deal', 'choos', 'ur', 'real', 'kt', '18k', 'carat', 'luck', 'peppermint', 'nishtaa', '22kt', 'swarovski', 'cubic', 'zirconia', 'exquisit', 'express', 'emot', 'social', 'workplac', '916', 'hallmark', 'bi', 'certifi', 'yepm', 'gather', '799', 'awesom', 'van', 'heusen', 'eshoppe', 'laugh', 'buddha', 'success', 'wealth', 'polyresin', 'regard', 'auspici', 'god', 'prosper', 'greet', 'enter', 'becom', 'possibl', 'advis', 'bedroom', 'dine', 'worship', 'symbol', 'karatcraft', 'shoulder', 'peter', 'england', '1399', 'gee', 'bee', 'dye', '749', 'com', 'fs', 'waist', '800', 'vanca', '1049', 'fantasi', 'flair', 'creation', '849', 'wearyourshin', 'pcj', 'clarityvssi', 'colorjk', 'expert', 'curat', 'newest', 'keepsak', 'shilpkala', 'sweet', 'cut', 'emblish', 'triangl', 'knit', 'drop', 'woven', 'hem', 'multicolour', 'halter', 'vneck', 'cream', 'mauv', 'tape', 'blueston', 'unisex', 'everywher', 'whi', 'soie', 'wardrob', '2000', 'emerald', '698', 'uber', 'chino', 'laidback', 'favourit', 'ear', 'offwhit', 'clara', '925', 'sterl', 'artist', 'open', 'pass', 'properli', 'stateoftheart', 'govt', 'laboratori', '65', '425', 'sweater', 'pullov', 'prong', '55', '625', '325', 'princess', '00', 'sheath', 'cross', 'ecofriendli', 'statu', 'quo', 'cat', 'eye', 'cultur', 'belong', 'owner', 'element', 'refer', 'commun', 'preciou', 'believ', 'planet', 'galaxi', 'birth', 'individu', 'weak', 'rubi', 'consid', 'empow', 'guru', 'coral', 'invis', 'consist', 'earth', 'say', 'copper', 'zinc', 'respons', 'said', 'moreov', 'sign', 'sinc', 'wa', 'zircon', '36', '42', 'mix', 'crowd', '27', 'maggi', 'hub', 'tailor', 'percent', 'distinguish', 'vibe', '2999', 'hot', 'offbeat', '1500', '700', 'sky', '1595', '525', 'teemood', '1100', 'ravish', 'topaz', '14k', 'speak', 'volum', 'addict', 'sfd', 'setter', 'weekend', 'miss', 'admir', '1295', 'inspir', '18kt', 'solitair', 'solitana', 'connoisseur', 'bigger', 'purs', 'friendli', 'herberto', 'kid', 'shell', 'celebr', 'weather', 'butterfli', 'therefor', 'abhira', 'daughter', 'night', 'nighti', 'nightwear', 'cocktail', 'ask', 'stone', 'anyth', 'caratlan', 'merri', 'trumpet', 'potpourri', 'role', 'forget', 'variou', 'embrac', 'seen', 'arrang', 'friend', 'soni', 'xperia', 'bump', 'fall', 'smartphon', 'aviat', 'track', 'pant', 'american', 'crew', 'rise', 'taper', 'drawstr', 'allen', 'solli', 'accessor', 'slipon', 'shift', 'petal', '1685', 'multilay', 'heavi', 'repres', 'spirit', 'elastan', '95', 'thermal', 'selfcar', 'launch', 'pyjama', '319', 'warmth', 'youlast', 'ozel', 'studio', '1200', '34th', 'shopahol', 'stapl', 'laci', '1050', 'extend', 'nude', 'georgett', 'delic', 'sequin', 'zaveri', 'capri', 'sporti', 'flatter', 'wow', 'glam', 'tapyti', '440', 'benetton', 'twin', '649', 'stretach', 'hug', 'smallchest30', 'length25', 'sleeves22', 'mediumchest32', 'length255', 'sleeves225', 'largechest34', 'length26', 'sleeves23', 'necklin', 'moda', 'vastra', 'graphic', 'khadi', 'revamp', 'hemlin', 'cation', 'fundoo', 'togeth', 'warm', 'brilliant', 'odor', 'especi', 'ventil', '420', '1495', 'sexi', 'tube', 'plan', 'calendar', 'roll', 'cushions', 'jdx', 'compress', 'tablet', 'dailyobject', 'ipad', 'miniretina', 'smallest', 'stori', 'tell', 'mani', 'fact', 'pristin', 'act', 'shield', 'access', 'shopper', 'kiara', 'rhodium', 'calgari', 'gaga', 'coutur', 'forev', 'passion', 'brought', 'peac', 'reliabl', 'valu', 'money', 'store', 'trust', '369', '370', 'yk', 'cosi', 'addyvero', 'geometr', '549', 'ador', 'navaksha', 'neckti', '756', 'grow', 'cravat', 'cufflink', 'meet', 'expectationsthi', 'micro', 'fiber', 'whistl', 'children', 'betti', '2007', 'gown', 'mega', 'wave', 'nineteen', 'end', 'imagin', 'magenta', '909', 'klick', 'nod', 'blous', 'wayfar', '2200', 'highlight', '199', 'vibrant', 'stilestreet', '349', 'vital', 'nevi', 'churidar', 'galleri', 'cs', 'mat', 'carpet', 'signatur', 'youll', 'wick', 'twist', 'quickli', 'braid', 'icon', 'reflect', 'customis', 'allur', 'eyecatch', '445', 'chiffon', 'signifi', 'vsgh', 'radiat', 'faballey', '650', 'crepe', 'authent', 'advanc', 'allday', 'nell', 'decent', 'strength', 'glamor', 'valley', 'beebay', 'weav', 'pipe', 'frock', 'fun', 'angel', 'joy', 'girls', 'guy', 'lenovo', 'aaa', 'verifi', 'sgl', 'hkd', 'stackabl', 'garnet', 'chase', 'kitten', 'bollywood', 'accompani', 'flop', '1350', 'creativ', 'suprem', 'compromis', 'handheld', 'myesquir', 'burner', 'lemongrass', '70', 'illumin', 'spoon', 'bowl', 'spread', 'captiv', 'blow', 'optimum', 'reed', 'rotat', 'oval', '590', 'bulb', 'engin', 'refresh', 'calm', 'human', 'tribal', 'develop', 'kea', 'demand', '359', 'glamour', 'amazingli', 'motiv', 'alibi', '315', 'persona', 'wherev', 'jog', 'gorgeou', 'parron', '598', 'slit', '22k', 'kaaryah', '990', 'medium', 'french', 'ceram', '270', '612', '1095', 'polka', 'dot', 'piqu', 'vent', 'wring', '85', 'simplic', 'doubt', 'oxolloxo', 'appliqu', 'jacknjewel', 'lowest', 'ishin', 'showcas', 'bedazzl', 'viviti', 'karishma', 'mumbai', 'personifi', 'game', 'wonderland', 'kitchen', 'tablewar', 'cutleri', 'jug', 'tray', 'dia', 'utensil', 'diseas', 'bacteria', 'greater', 'elimin', 'univers', 'characterist', 'everlast', 'therapeut', 'virtual', 'purifi', 'regul', 'practic', 'dishwash', 'oxid', 'solut', 'lemon', 'juic', 'soap', 'usespecif', 'tumbler', '190', '130', 'microwav', '320', 'temper', 'xiaomi', 'mi', 'transpar', 'file', 'folder', 'hariom', 'polypropylen', 'virgin', 'hold', 'build', 'a4', '35', 'bft', 'introduc', 'lamp', 'fixtur', 'b22', 'pencil', 'lami', 'oper', 'fulfil', 'innov', 'refil', 'nib', 'aluminium', 'spa', 'womenspecif', '125', 'trait', 'blazer', 'applianc', 'oven', 'lg', '32', 'cook', 'menu', 'output', '53', '52', 'rack', 'grill', 'massag', 'non', 'child', 'frequenc', 'post', 'usual', 'basket', '13', 'se', '21', 'rice', 'delight', 'util', 'workmanship', 'alter', 'site', 'kept', 'confirm', 'lightn', 'hz', '1250', 'tawa', 'guid', 'globe', 'raymond', 'charger', 'furst', 'usb', 'dzire', 'htc', 'portabl', 'data', 'damagedburnt', 'gen', 'moto', 'samsung', 'sv', 'xp', 'core', 'sculptur', 'platter', 'serebroart', 'ceremoni', 'shrug', 'sare', 'santoon', 'feed', 'neutral', 'neg', 'review', 'assist', 'chanc', 'resolv', 'cottonspecif', 'cm40', 'innerwear', 'sleepwear', 'mom', '011', 'shiner', 'jasmin', 'knob', 'drawer', 'suitcas', 'bathroom', 'itiha', 'tall', 'nose', 'congest', 'rejuven', 'common', 'altern', 'boost', 'heavenli', 'gm', 'extract', 'steam', 'process', 'attribut', 'antibacteri', 'antidepress', 'antisept', 'insect', 'mandarin', 'mynt', 'shorts', 'outmynt', 'tight', 'cell', 'aim', 'workout', 'polyamid', 'nylon', 'temparatur', 'nonchlorin', 'photo', 'shoot', 'nourish', 'mug', 'akup', 'mugakup', '259', 'clay', '300ml', 'unforgett', 'specialti', 'moist', 'cospecif', 'freezer', '330', '46', 'musician', 'dream', 'comput', 'network', 'compon', 'router', 'dlink', 'mbp', 'modem', '69', 'antenna', 'port', '149', 'ce', '949', 'hero', 'dove', 'therapi', 'rough', 'weigh', 'rain', 'paul', 'lavend', 'got', 'stress', 'keyboard', 'backpack', 'public', 'hospit', 'seal', 'push', 'tini', 'bit', 'interfac', 'brandtrendz', 'funki', 'tpr', '380', 'insol', 'sea', 'excess', 'paint', 'aero', 'meril', '289', 'luke', 'aura', 'niremo', 'sued', 'dressspecif', 'workwear', 'kada', 'indricka', 'fetch', 'organ', 'chemic', 'clair', 'micromax', 'dclair', 'compact', 'vehicl', 'mainten', 'enabl', 'dealer', 'illustr', 'input', 'dc', 'simultan', 'brief', 'herbal', 'rudraksha', 'cord', 'fitspecif', 'novelti', 'templ', 'rudraksh', 'riot', '419', 'bike', 'tyre', 'nano', 'tire', 'pac', 'concentr', 'greas', 'brake', 'adhes', 'rim', 'acid', 'tissu', 'ciaz', 'necessari', 'exactli', '2014', 'solar', 'phoco', 'load', 'signal', 'electron', 'outstand', 'state', 'bar', 'rail', '120', '92', 'polar', 'rollup', 'promot', 'popular', 'zero', 'neon', 'indoor', 'cardboard', 'glow', 'tab91', 'i20', 'hyundai', 'ab', 'minor', 'wax', 'retain', 'trim', '2013', 'cami', 'seper', 'esoft', 'marker', 'appreci', 'youspecif', 'honor', 'santro', 'xing', 'racer', 'magnific', 'gadget', 'enfield', '2specif', 'bolt', 'loreal', 'antiag', 'blu', 'indiano', 'bg', 'rainfun', 'mirror', 'stich', 'peach', 'lid', 'organis', '12v', 'equip', 'warn', 'method', 'chick', 'player', 'edit', 'stark', 'catchi', 'tab', 'polyurethan', 'approv', 'raw', 'lend', 'worth', 'regularfit', 'feather', 'thong', 'neo', 'bl', 'pro', 'thumb', 'sweat', 'laptop', 'cast', 'handmad', 'lava', 'micra', 'nissan', 'kreul', '335', 'noth', 'artwork', 'oasi', 'meter', 'cablespecif', 'krg', 'expens', 'someon', 'entir', 'neatli', 'male', 'spring', 'snap', 'portrait', 'final', 'lacquer', 'superb', 'multipurpos', 'poster', 'cookwar', 'handi', 'ss', 'nonstick', 'raincoat', 'midikne', 'maxiful', '570', 'corona', 'sock', '169', 'stylishli', 'stylespecif', 'jrb', 'otg', 'android', 'fan', 'panti', 'fabiya', 'bikini', 'medha', 'charismat', 'absolut', 'updat', 'indiweav', 'dupion', 'smell', 'tuelip', 'minion', '80', 'aa', 'recharg', 'burdi', 'mart', '254', 'extens', 'center', 'claim', 'hors', 'crokrok', 'datsun', 'beige', 'odourless', 'antislip', 'fitment', 'worri', 'antiskid', 'skid', 'environment', 'nontox', 'accid', 'liner', 'nonslip', 'carbon', 'emboss', 'wont', 'rais', 'coverag', 'past', 'spike', 'spice', '305', 'suzuki', 'swift', '4d', 'volkswagen', 'vento', 'wagonr', 'grand', 'fuson', 'mini', '3d', 'platform', 'kindli', 'decid', 'printer', 'ink', 'transfer', 'rate', 'tail', 'daewoo', '2500', 'lm', 'motorbik', 'truck', 'wattag', 'cd', 'shoprid', 'desgin', 'slot', 'variat', 'honda', 'bootwal', 'faux', 'trek', 'rythmx', 'fb', 'nail', 'lipstick', '51', 'outing', 'ajaero', 'strip', 'realli', 'scienc', 'lip', 'gloss', 'eyelin', '49', '47', 'seed', 'fruit', 'futaba', 'dragon', 'tropic', 'rel', 'grower', 'honey', 'soil', 'wet', 'fridg', 'wait', '57', 'fabpoppi', 'fabricspecif', 'follow', 'respect', 'relat', 'speaker', 'shortkut', 'mobiletablet', 'configur', '3w', 'audio', 'imped', 'ohm', 'rm', 'memori', 'adida', 'logo', 'carsizzl', 'gum', 'fasten', 'hook', 'renault', 'balloon', 'adult', 'holi', 'favorit', 'spin', '495', 'sweep', 'represent', 'resolut', 'know', 'headlight', 'leebo', 'bajaj', 'pulsar', 'chip', 'beam', 'motorcycl', 'span', 'mtr', 'roh', 'h4', 'cb', 'nurs', 'wine', 'insul', '3specif', 'birthday', 'protector', 'bharatcraft', 'lord', 'ganesha', 'leaf', '1397', 'polycottoncandi', 'rakshita', 'spruce', 'breathabilityspecif', 'polycotton', 'secret', 'lux', 'frozen', 'lotion', 'trolley', '156', 'viviana', 'pride', 'incred', 'easier', 'higher', 'vitamin', 'anim', '152', '101', 'yoga', 'inbuilt', 'lunch', 'ski', 'dispos', 'spatula', 'knife', 'carv', 'holder', 'cfl', 'spot', '31', 'alpin', 'ankl', 'footb', 'outsol', '54', 'kaftan', '490', 'cum', 'fat', 'motor', 'muscl', 'sand', 'volt', 'watt', 'exfoli', 'stonewar', 'dessert', 'veget', 'potteri', 'field', 'guest', 'meal', 'ice', '290', '277', 'sipper', 'bird', 'usa', 'polyst', 'cabinet', 'dr', 'aloevera', 'cleans', 'zipspecif', '279', 'gaj', 'impex', 'kundan', 'facil', 'speedwav', 'dashboard', '978', 'fiat', 'punto', 'klub', 'speedo', 'held', '07', 'nois', 'sold', 'tata', 'chevrolet', 'ford', 'figo', 'mahindra', 'xuv', 'scorpio', 'toyota', 'corolla', 'alti', 'spark', 'headphon', 'debock', 'earphon', 'stereo', 'interact', 'ergonom', 'headset', 'earbud', 'bass', 'bluetooth', '35mm', 'flatwir', 'da', 'lime', 'i10', 'linea', 'melang', 'rani', 'freedom', 'scissor', 'commerci', 'blade', '345', 'pendant', 'locket', 'silvesto', 'theme', 'naspecif', 'diamong', 'krishna', '479', 'modish', 'nowspecif', 'mothercar', 'mic', 'driver', 'microphon', 'pickup', 'retract', 'decal', 'rectangular', '135', 'saucer', 'sheesham', 'outsid', 'circl', 'leak', 'clip', 'bonheur', 'zevrr', 'platinum', 'issu', 'dent', 'slimspecif', 'porcelain', '385', 'benefit', 'uma', 'trader', 'strict', 'mention', 'craftghar', 'unbreak', 'luggag', 'keeper', 'belov', 'instantli', 'handbag', 'tidi', 'neat', 'largest', 'tote', 'mother', 'student', '12w', '25cm', 'fourge', 'viha', 'max', 'rasav', 'occasion', 'naturalsynthet', '61', 'polici', 'frabjou', 'toe', '141', '405', '129', '19', 'rajasthani', 'cone', 'enteas', '1195', 'ahead', 'puma', 'willow', 'english', 'firm', 'shot', 'global', 'athlet', 'enthusiast', '5999', 'wallpap', '520', 'hassl', 'vinyl', 'breakag', 'densiti', 'sumo', 'foldabl', 'collaps', 'ocean', 'carabin', 'dolphin', 'ipg', 'bohemian', 'knot', 'gypsi', 'dgold', 'approx', 'chainnecklac', 'semipreci', '08', 'strand', 'array', 'uniform', 'fengshui', 'treasur', 'onyx', '04', 'raa', 'perfum', 'mosquito', 'chkokko', '77', 'adroitz', 'satellit', 'glue', 'roof', 'swivel', 'fm', 'enamel', 'lobster', 'claw', 'citrin', 'peridot', 'jersey', 'vest', 'texco', 'mood', 'linzina', 'reusabl', 'releas', 'gentli', 'expos', 'harsh', 'toilet', 'pinch', 'wrench', 'pa', 'nut', 'themselv', 'gray', 'breast', '275', 'someth', 'flowers', 'vase', '185', 'swan', 'spandex', 'jacquard', 'backsid', 'harem', 'bio', 'snuggl', 'certainli', 'infus', 'zadin', 'flipflop', 'hangout', 'studi', 'scratchresist', '58', 'nike', 'bra', 'st', 'nonpad', 'wirefre', 'shelv', 'mdf', 'noodl', 'glitzi', 'artisan', 'craftsmanship', 'vision', 'slub', 'dori', 'amplifi', 'manner', 'whenev', 'hike', 'newgen', 'tech', 'eo', 'hs3303', 'eohs3303', 'bassnewgen', 'superphon', 'choicest', 'likingspecif', 'answerend', 'reject', 'elabor', 'repairedcov', 'doublesid', 'symmetr', 'mircrophon', 'ornament', 'spiritu', 'mangalsutra', 'tanmaniya', 'parinaaz', 'pan', 'oxford', 'induct', 'handcraft', 'longev', 'db', 'remot', 'caution', 'builtin', 'nirlon', 'minim', 'ga', '510', 'ingredi', 'affect', 'doesnt', 'robust', 'welldesign', 'evenli', 'burn', 'cleanli', 'shower', 'faucet', 'proud', 'focu', 'fix', 'circular', 'flang', 'bracket', 'audi', 'kadhai', 'kadai', 'healthi', 'gear', 'polycarbon', 'mee', 'blush', 'balm', 'cheer', 'languag', 'drive', 'captur', 'subject', 'concept', 'text', 'effort', 'lay', 'foundat', 'futur', 'web', 'visual', 'educ', '145', 'gb', 'processor', 'ghz', 'wheeler', 'mainli', 'automobil', 'road', 'debri', 'rub', 'tow', '2010', 'hm', 'abras', 'cartoon', 'thought', 'ben', 'indulg', '2012', 'yamaha', 'tv', 'crux', 'splendor', 'coaster', 'trade', 'rajasthan', 'strain', 'hdmi', 'ethernet', '71', 'master', 'xbox', '1080p', 'confus', 'rage', 'theater', '4k', 'million', 'dvd', 'format', 'bhagalpuri', 'sari', 'multicolorspecif', 'peel', '240', 'correct', 'radiant', 'abil', 'dead', 'prepar', 'alpha', 'dull', 'agent', 'encourag', 'instant', 'spf', 'lighten', 'radianc', 'pushup', 'underwir', 'lift', 'cleavag', 'row', 'did', 'italian', 'effortless', 'talleng', 'dispatch', 'quot', 'hp', 'anywher', 'redefin', 'buyer', 'voylla', 'numbrav', 'sew', 'pruto', '526', 'chart', 'splendid', 'cz', 'fashionista', 'rod', 'monk', 'forwestern', 'plazo', 'embibo', 'robe', 'dressnighti', 'biker', 'accessoreez', 'laceup', 'flavour', 'vk', 'patiala', 'dwm', 'variant', 'landscap', 'cordless', 'onsit', 'hugme', 'divin', 'embodi', 'foil', 'reebok', '475', 'ji', 'puri', 'hint', 'anyon', 'think', 'aaina', 'exot', 'aapno', 'loofah', 'spong', 'rope', 'ark', 'maker', 'dhokra', 'skill', 'techniqu', 'merchbay', 'rock', 'chakra', '37', '459', 'vidhya', 'kangan', 'intimo', 'goldencollect', 'joyeria', 'milan', 'meenakari', 'bless', 'marbl', 'galz4ev', 'remark', 'pawzon', 'adhira', 'derbi', 'attitud', 'retail', 'breadth', 'teenag', 'talk', '99', '995', 'artificti', 'west', 'polym', 'exampl', 'adaa', 'trinketbag', 'handloom', 'sri', 'rs799', 'sr', '1524', 'mp3', 'danc', 'rs699', 'radha', 'kp', 'puja', 'jazzup', 'bond', 'document', 'blankets', 'quilt', 'dohar', 'kasemantra', 'muchlov', 'highqual', '895', 'j7', 'tup', 'alcatel', 'ultra', 'tactil', 'whilst', 'magazin', 'shopatplac', 'inflat', 'chair', 'surpris', 'kanu', 'latch', 'tuck', 'glori', 'infin', '2d', 'pngadgil', 'metro', 'shank', '7inch', 'hoko', 'usp', 'rama', 'blanket', 'sp', '97', 'camara', 'scintil', '025', 'sigh', 'vvsgh', 'folio', 'clark', 'vintag', 'motif', 'decot', 'paradis', 'seven', '84', 'suppl', 'jewels5', 'amzer', 'accident', 'laid', 'truli', '122', 'huawei', 'asu', 'textil', '594', '175', 'stock', 'ribbon', 'rippl', 'jaipuri', 'velvet', 'razai', 'sanganeri', 'fluffi', 'beautiful', 'vizio', 'brillianc', '127', '195', 'cosmet', 'dinero', 'surround', 'amber', 'trimmer', 'zone', '189', 'champion', 'vheelocityin', 'gun', 'bumper', 'indigocart', 'cruze', 'paisley', '2286', 's4', 'crack', 'soften', 'len', 'macro', '429', 'lotu', 'butter', 'pathani', 'nuteez', '67', '89', 'assur', 'toner', 'cartridg', 'balconett', 'figur', 'vaishna', 'grafion', 'ploomz', 'younki', '379', 'hemali', 'florentyn', 'wolfi', 'riou', 'qriou', 'luxemburg', 'bandaeu', 'strechabl', 'prettysecret', 'wing', 'madaam', 'bandeau', '1349', 'itsmuahlif', 'floozi', 'ladyland', 'tia', 'plung', 'sap', '1700', 'soul', 'ritual', 'cherri', 'oleva', 'verit', 'urbaano', 'bridal', 'dinner', 'eco', 'wild', '94', 'cater', 'loos', 'peri', 'naughti', 'jsr', '389', 'household', 'prove', 'major', 'showtim', 'daisi', 'hosieri', 'strapless', '329', 'riya', '159', 'lovinoform', 'inter', 'quit', '390', 'privatelif', 'section', 'interlock', 'fullcoverag', 'nonwir', 'muquam', 'string', 'wore', '219', 'splash', 'magiq', 'oncraft', 'intellig', 'penni', '260', 'triumph', 'crisscross', 'sherri', 'shimmer', '375', 'silki', 'zet', 'pech', 'fourth', '1600', '269', 'wetex', 'edgi', 'enclosur', '410', '1749', '255', '235', '234', 'sportswear', 'chikan', 'sober', 'mold', 'meant', 'harpa', 'folklor', 'goodwil', 'hrx', 'femella', 'hugo', 'chavez', 'femninora', 'saarah', 'palazzo', 'boutiqu', 'plazzo', 'bodycar', 'waistlin', 'laundri', 'mactre', 'leatherit', 'word', 'jdk', '41', '1449', 'onthego', 'eveningparti', 'rush', 'notic', 'odour', 'ibal', 'edel', 'grain', 'brandvilla', 'incorpor', '33', 'scorch', 'colorsspecif', 'oggo', 'deo', 'ib', 'horizont', 'cuphold', 'mous', 'pp', 'anuradha', 'chabi', 'challa', 'jhumki', 'tangerin', 'bodysuit', 'sleepsuit', 'rear', 'adventur', 'goggl', '720', 'armour', 'mate', 'linear', 'clickforsign', 'emerg', '3048', 'vero', 'avenu', 'juhi', 'monogram', 'droplet', '66', 'quofac', 'explor', 'fullfram', 'lens', 'zest', 'glare', '1750', 'bake', 'sent', 'random', 'park', 'horn', 'herb', '1150', 'rosewood', 'skinnyspecif', 'lane', 'safari', '3000', 'canon', 'fax', 'gkidz', 'vrtya', 'lumber', 'footbal', 'establish', 'absorpt', 'graviti', 'lighter', 'frenemi', 'mousepad', 'imprint', 'jon', 'chief', 'hrithik', 'roshan', 'distress', 'chevron', 'mah', 'siesta', 'garment', 'lilliput', 'promptli', '295', 'hunt', 'timberlak', 'synergi', 'retina', '1x', 'bench', 'fountain', 'panit', 'turtl', 'saco', 'conform', 'desktop', 'reinforc', 'handsfre', '105', 'info', 'inlin', 'xebac', 'interfer', 'screenspecif', 'patiyala', 'rajrang', 'eleph', 'south', 'vdrive', 'diy', 'visibl', '2008', '2009', '2006', '2015', '2011', 'etio', 'liva', 'esteem', 'sail', 'uva', 'aria', 'ortel', 'flame', 'china', 'suffici', 'armrest', 'ashtray', 'innova', 'cigarett', 'consol', 'handbrak', 'amco', 'knowledg', 'fight', 'dedic', 'tantrum', 'jumbo', 'terracotta', 'mask', 'villag', 'shopoj', 'lantern', 'packspecif', 'cr', 'basin', 'exercis', 'loss', 'longlast', 'ganga', 'vector', 'aao', 'gradient', 'violet', 'unveil', 'inde', 'attend', 'confer', 'superhero', 'bling', 'vista', 'desi', 'upcom', 'bend', 'washer', 'diwali', 'compris', 'stiletto', 'starsi', 'knotti', 'bloomer', 'sunni', 'hunni', 'bunni', 'meena', 'manicur', 'sbuy', 'posh', 'finess', 'hookah', 'wellworth', 'pay', 'town', 'mochi', 'bazaar', 'medic', 'surgic', 'rs199', 'funku', 'york', 'seamlessli', 'smile', 'baluja', 'offici', 'hindu', 'prithish', 'broadcast', 'holiday', 'cupcak', 'sip', 'printland', 'fantast', 'coffeetea', 'teacoffe', 'rockmantra', 'thrill', 'toodishwash', 'rs225', 'rajesh', 'rs250', 'alon', 'rs175', 'fogg', 'bucket', 'mr', 'monster', 'mad', 'miracl', 'happen', 'ganpati', 'leo', 'batman', 'brother', 'funni', 'wolf', 'implement', 'pizza', 'cutter', 'pratha', 'ruchiworld', 'shoppingtara', 'lavish', 'rs1599', 'ambassador', 'slicer', 'rs1380', 'zen', 'rs920', 'celerio', 'rs3399', 'skoda', 'storm', 'monil', 'terrano', 'civic', 'theyr', 'sharpen', 'drip', 'turner', 'lal', '762', 'mitsubishi', 'nehp', 'fiesta', 'sovam', 'eon', 'tatvaart', 'ona', '56', 'verna', 'fluidic', '3a', 'autocar', '2250', 'dimension', 'spic', 'antibunch', 'onlineshoppe', 'tirupati', 'rs649', 'bolero', 'rs1799', 'k10', 'fabia', 'fascin', 'photographi', 'tiedribbon', 'tile', 'doorstep', 'rs1099', 'mcb', 'sonata', 'rs1490', 'jharoka', 'jharokha', 'articl', 'painstakingli', 'shree', 'homdecor', 'rangoli', 'microfibr', 'sunvi', 'ritz', 'scala', 'slice', 'mahadev', 'indica', 'xcent', '1920', 'fluenc', 'rajo', 'raja', 'ma', 'hut', 'purpledip', 'tavera', 'reiki', 'pyramid', '285', 'lac', 'quirki', 'endeavour', 'doll', 'aveo', 'marwar', 'everybodi', 'craftsmen', 'optra', 'ganesh', 'bone', 'boast', 'xylo', 'unravel', 'peacock', 'rs749', 'event', 'crv', 'trove', 'youshin', 'zaicu', 'choker', 'faster', 'uptown', 'zakaah', 'vinni', 'trendz', 'aaradhi', 'divya', 'kolhapuri', 'saaj', 'thushi', 'yugshajewel', 'adorelabel', 'aaishwarya', 'berri', 'fab', 'beautifi', 'visaga', 'enchant', 'volaliva', '2005', '155', 'aahana', 'neckpiec', 'twella', 'rapid', 'vijisan', '215', 'pooja', 'urthn', '830', 'vastradi', 'zephyrr', 'vr', '470', 'showroom', 'bib', 'aara', 'planter', '365', '486', 'mala', 'affin', 'mixtur', 'romper', 'oxidis', '498', 'slight', 'search', 'usabl', 'marwal', 'adimani', 'stool', 'background', 'veinic', '1778', 'elev', '539', 'sensibl', 'oomph', 'obstacl', 'refin', 'pratami', 'rs169', 'wok', 'ndura', 'atc', 'muffler', 'sakhi', 'pindia', 'anod', 'jiya', 'rs1299', 'khoobe', 'squeez', 'press', 'handlebar', 'iphon', 'metallino', 'anodis', 'parisha', 'smiledr', 'steer', 'distinctli', '454', 'fuel', 'kosher', 'pigeon', 'vaishali', 'bindi', 'rs550', 'fashiond', 'villa', 'dish', 'suruchi', 'windshield', 'cradl', 'tf', 'aircondit', 'firmli', 'ziveg', 'medit', 'thegudlook', 'sumeet', 'stallion', '448', 'zari', 'possess', 'envi', 'prestig', 'dangl', '480', 'itali', 'lumin', 'jk', 'cannon', 'katalogu', '005', 'accuraci', 'neglig', 'sitaram', 'junction', '45cm', 'submerg', 'wisdom', 'intellect', 'retro', 'deploy', 'partywed', 'onethi', 'zair', 'shall', '165', 'anasazi', 'paw', 'autoplu', 'coil', 'palito', 'plo', 'antiradi', 'pollut', 'continu', 'emit', 'satovira', 'wajbe', 'carlo', 'autogarh', 'esidon', 'zoom', '55cm', 'devot', 'crumbl', 'california', '398', 'memor', '001', '105cm', 'tucasa', 'valentin', 'badminton', 'brahmz', 'mossiac', 'convent', 'décorspecif', 'juicer', 'mkb', 'fur', 'opportun', 'cleanspecif', 'refriger', 'dispens', 'glasswar', 'compressor', 'irondo', 'optic', 'intel', 'breez', 'trip', 'darl', 'expand', 'mustard', 'junk', 'ftcbazar', 'romano', 'ego', 'lapel', 'nehru', 'sq', 'fabflash', '91', 'camp', 'mickey', '1pc', 'rural', 'itzmyfashion', 'eshop', 'jewelina', 'imitzworld', 'fayon', 'goldnera', 'hotpip', 'swastik', 'dhrohar', 'falconoversea', 'fashblush', 'informatix', 'religion', 'shankh', 'harp', 'finishdesign', 'iesd', 'diti', 'flawless', 'question', 'etti', 'estella', 'jadoo', 'jeweln', 'fashionzaadi', 'jonex', 'roli', 'diovanni', 'homefost', 'gia', 'indianshelf', 'fabulloso', 'hello', 'euro', 'eagl', 'ethnoch', 'giftwalla', 'hedoneesta', 'gurjari', 'nickel', 'starmark', 'anna', 'andr', 'majesti', 'hawai', 'zeva', 'geometry', 'palakz', 'smartcraft', 'engross', 'pitaraa', 'netgear', 'gigabit', 'wifi', 'layerr', 'repeat', 'ryka', 'rexin', 'tenda', 'playboy', 'spiderman', 'passport', 'klassik', 'dimmer', '16a', 'di', 'cinthol', 'dive', 'modx', '314', 'bean', 'denver', 'ap', 'tp', 'tplink', 'belkin', 'jainx', 'friendz', 'adsl2', 'malhotra', 'tootpado', 'trendnet', 'schneider', 'imli', 'karta', 'sharpner', 'edimax', 'aarde', 'soccer', 'forc', 'era', 'zyxel', 'yardley', 'dew', 'doraemon', 'barbi', 'hill', 'outshini', 'soon', 'bunch', 'asia', 'spinz', 'neti', 'indsight', 'offspr', 'n300', 'imit', 'ptc', 'tune', 'greek', 'sojourn', 'havel', 'toon', 'jesu', '154', 'enwrap', 'legrand', 'musk', 'pioneer', 'bheem', 'jovan', '10000', 'tara', 'ro', 'spunk', 'le', 'spell', 'viral', 'multifunct', 'killer', 'record', 'barrel', 'wi', 'john', 'nath', 'numero', 'korean', 'throw', 'email', 'member', 'papaya', 'microusb', 'titanium', 'henley', 'yg', 'princ', 'packi', 'poda', 'laadli', 'projector', 'pal', 'vga', 'diaper', 'scrub', 'mayor', 'smartpro', '5v', '9a', 'vaio', '195v39a', '75w', '195v', '39a', '395a', 'complianc', 'volateg', 'deviat', 'orderspecif', '65mm', 'pane', 'limer', 'meeta', 'inchspecif', 'pichkari', 'midcalf', 'shaver', 'nova', 'woolen', 'camisol', 'camisoleslip', 'wrong', 'babydol', 'pleasur', 'clovia', 'pantof', 'advic', 'pebbl', 'pill', 'subwoof', 'destudio', '120cm', 'shaun', 'skull', 'unwant', 'nearbi', 'inspect', 'hubberholm', 'wearabl', 'zosign', 'tenni', 'du', 'camcord', 'socket', 'ole', 'bikerz', 'lab', 'includedspecif', 'settingsspecif', 'kart', 'usekit', 'strongli', 'glimps', 'qualitypleas', 'humbl', 'mail', '9176695600', 'kitskartgmailcomspecif', 'ankita', 'karbonn', 'shapewear', '4way', 'bulg', 'lexel', 'sync', '6s', 'generix', 'guarnte', 'comatibl', 'nexu', 'hako', '60w', 'magsaf', 'macbook', 'nearest', 'orderingspecif', 'floater', 'jbc', '85w', 'sg', 'crisp', 'skillset', 'toddler', 'circumfer', 'bajya', 'stylo', 'ident', 'treder', 'mojari', 'ceat', 'delux', 'boxer', 'tt', '1332', 'apach', '4s', 'ninja', 'causal', 'lushom', 'cooker', 'blacksmith', 'pannkh', 'wineberri', 'wrogn', 'storit', 'powerbank', 'ebook', 'bendabl', 'novel', 'grind', 'grinder', 'maharaja', 'racquet', 'junior', 'lungi', 'fastway', 'dhiyaa', 'jbn', 'snjmart', 'canalphon', 'manjare', 'philip', 'fog', 'fbz', '9led', '1119', 'empir', 'dryclean', 'glitter', 'rosesnribbon', 'nak', 'cutecumb', 'inaya', 'loud', 'aarika', 'pallazo', 'crown', 'onoff', 'lithium', 'tint', 'takspin', 'clutcher', 'examin', 'crime', '098', 'sanaa', 'occass', 'oreal', 'clairol', 'amit', 'needl', 'idli', 'vatika', 'reus', 'tulsi', 'thali', 'immedi', 'chokre', 'famaya', 'hipster', 'eve', 'aj', 'dezin', 'dhoti', 'cabin', 'tomafo', 'shoppe', 'sing', 'harisson', 'liter', 'vgrip', 'weid', 'voic', 'runner', 'neopren', 'journey', 'bandana', 'sutra', 'fever', 'consult', 'doctor', 'vetra', 'newvetra', 'holderblack', 'longdist', '2layer', 'surfacesspecif', 'badg', 'accor', 'giftsthatwow', 'allin', 'co2', 'ginger', 'renew', 'crisscrossspecif', 'cotonex', 'handpick', 'yuccab', 'minerva', 'drool', 'toygulli', 'rk', 'shellystrend', 'vgreen', 'stockabl', 'drain', 'lawn', 'kraft', 'girgit', 'agricart', 'stoic', 'nurseri', 'lapguard', 'toshiba', 'procedur', 'filtrat', 'marc', 'middl', 'rega', 'compaq', 'exceed', 'clublaptop', 'pavilion', 'don', 'arb', 'dgb', 'atlant', 'orchid', 'palatt', 'supplier', 'risk', 'eplant', 'acer', 'yuva', 'flippd', 'maxima', 'timewel', 'attivo', 'mac', 'hmt', 'selfwat', 'nomad', 'omax', 'lamex', 'fashionin', 'petrol', 'hautewagon', 'latin', 'quarter', 'scroll', 'tetale', 'wearer', 'naisha', 'pain', 'olvin', 'antilia', 'pantaloon', 'piftif', 'effectiveadroitz', 'birbi', 'sunray', 'peep', 'tom', 'heatallow', 'killi', 'pout', 'mb', 'dilan', 'classyworld', 'han', 'merino', 'firangi', 'eyewear', 'wirefreeclovia', 'fad', 'align', 'coir', 'efresh', 'siya', 'unpreced', 'nino', 'indilego', 'naaz', 'cours', 'ruhi', 'metmo', 'tapestri', 'shadow', 'vibranc', 'ki', 'indoart', 'budget', 'moladz', 'ritco', 'accessoriesspecif', 'lil', 'shave', 'londonhouz', 'anytim', 'hose', 'blender', 'decker', 'babyoy', 'polic', 'milk', 'whip', 'wadhwa', 'dupont', 'tyvek', 'spend', 'ding', 'nayasa', 'fritzberg', 'poetri', 'shashvat', 'addlin', 'nobl', 'faith', 'campusmal', 'kitpit', 'ikitpit', 'unnecessari', 'tightli', 'destin', 'scott', 'acc', 'notch', 'a369i', 'ciemm', 'bm', 'leebone', 'rene', 'zink', 'meish', 'akfost', 'ak', 'fabricthes', 'loook', 'highland', 'imbindass', 'jogur', 'kaxiaa', 'peplum', 'okan', 'fieesta', 'plaza', 'swing', 'tarnish', 'kasturi', 'bore', 'sifti', 'athena', 'transtal', 'lean', 'rakhi', 'shaftesburi', 'sleevespecif', 'personalis', 'handiana', 'motorola', 'nitgen', 'fingerprint', 'adaptor', 'couch', 'whirlpool', 'baaamboo', 'licens', 'baklol', 'sayitloud', 'bralux', 'dolli', 'autokraftz', 'desiharem', 'nucod', 'fashigo', 'sag', 'sportk', 'snugli', 'sm', 'buynow', 'stronger', 'film', 'residu', 'goodkarma', 'polkakart', 'churidaar', 'fit100', 'cottonful', 'sleevespread', 'collarmarc', 'convex', 'carsspeedwav', 'highway', 'mirrorspecif', 'refund', 'ebri', 'aari', 'traffic', 'pavino', 'clipper', 'dhurri', 'vinaya', 'adishma', 'armrestbeig', 'ecoleath', 'obstruct', 'homez', 'cm30', 'ddreamz', '60cm', '75cm', '90cm', 'giant', '135cm', '150cm', 'rucksack', 'mountain', 'filler', 'lolprint', 'ekolhapuri', 'teracotta', 'warali', 'hadmad', 'jj', 'toothbrush', 'interchang', '18ct', 'banana', 'funcart', 'dresser', 'hdtv', 'pokizo', 'indianbeauti', 'mahek', 'diseno', 'vipul', 'bombay', 'embriod', 'broch', 'austrian', 'appel', 'vide', 'lappel', 'sj', 'binocular', 'backrest', 'spine', 'facial', 'gravolit', 'shopsinc', '10000mah', 'charcoal', 'hunybuni', 'brocad', 'condens', 'c9', 'jacadi', 'christian', 'fifo', 'screwsspecif', 'dryer', 'brim', 'shonaya', 'jeweleri', 'broochesanuradha', 'encrust', 'outdazzl', 'smartcasu', 'avaron', 'projekt', 'senterlan', 'mari', 'pierc', 'spectacl', 'fundament', 'erado', 'sonanjali', 'radadiyatrd', 'bonnet', 'oem', 'imagica', 'shopernow', 'laiba', 'babylisspro', 'krasiv', 'vitalwal', 'depict', 'homeehub', '501', 'gaug', 'takeincart', 'kingswood', 'snapback', 'kimmi', 'comfortcolour', 'moss', 'comparison', 'hurryhurryhurrynow', 'ftani', 'colorsso', 'placemat', 'fonepad', 'xtreme', '12v18', '110db', 'mocc', '410510hz', 'kjagg', 'innovationthestor', 'handloomhub', 'fabutex', 'earthenwar', 'ferrari', 'race', 'bespok', 'drywal', 'plaster', 'prop', 'tuk', 'hooter', 'whicl', 'melodi', 'onn', 'vatsalya', 'pearston', 'outlet', 'journal', 'classiqu', 'balaji', 'durian', 'arra', 'getabhi', 'alvaro', 'cooper', 'welhous', 'castagnino', 'jojo', 'chowki', 'tradeyard', 'vrct', 'uno', 'crazora', 'tyfi', 'gaura', 'estyl', '8k', 'jewelbox', 'kuhuk', 'eira', 'availa', 'ithi', 'duke', 'abod', 'anjan', 'muchmor', 'sunscreen', 'keen', 'idk', 'british', 'bosch', 'fixat', 'dede', 'wallmantra', 'puppi', 'nirvana', 'radhesh', 'nathiya', 'lost', 'discoveri', 'parad', 'maya', 'kiosha', 'meira', 'aussehen', 'pret', 'porter', 'amor', 'jazzi', 'sukkhi', 'hermosear', 'vedika', 'luxor', 'viva', 'vama', 'tokyo', 'talki', 'chuda', 'australian', 'inmark', 'nirosha', 'meee', 'mrigya', 'silli', 'blenni', 'bpt', 'indiatrendz', 'kashana', 'modimania', 'dresstop', 'mayra', 'republ', 'enthopia', 'protetc', 'minimini', 'multifold', 'sapato', 'crash', 'dailyobjectscom', 'raga', 'mhk', 'pezzava', 'zwart', '133', 'makhan', 'fullcutdiamond', 'rakam', 'golmaalshop', 'caratc', 'nappi', 'marusthali', 'ecraftindia', 'sometim', 'presid', 'perhap', 'mink', 'durga', 'jewelshingar', 'bagshub', 'zobello', 'smith', 'basketbal', 'antiqueshop', 'galloway', 'gini', 'joni', 'oviyon', 'mutant', 'join', 'leonardo', 'donatello', 'michelangelo', 'raphael', 'neckhalf', 'sleeves100', 'cottonhand', 'coldus', 'detergentdri', 'shadenonchlorin', 'neededdo', 'opiumstreet', 'northern', 'nodr', '718', 'becam', 'nimya', 'norwood', 'lacost', 'thai', 'evok', 'nivia', 'outtaskin', 'ovl', 'multitud', 'merriamwebst', 'dictionari', 'fond', 'styletug', 'teesth', 'flatfront', 'liber', 'nimbu', 'omtex', 'earliest', 'spanish', 'tit', 'yoshi', 'war', 'numalo', '956', 'luba', 'pavecha', 'nutcas', 'har', 'provalley', 'provogu', 'r18jewels', 'r18jewelsfashionu', 'r18', 'compet', 'puppetnx', 'pearlz', 'oxyglow', 'mxofer', 'turmer', 'mixfruit', 'astring', 'fare', 'perucci', 'eclat', 'oxi', 'parijat', 'chalk', 'nillkin', 'fork', 'casotec', 'dnx', '200gm', 'pilot', 'remax', 'prais', 'papper', 'monit', 'regent', 'platignum', 'bestsuit', 'kamakshi', 'sherwani', 'sne', 'benera', 'tsf', 'zoot24', 'apaach', 'petshop7', 'arden', 'club51', 'hardwear', 'saviour', 'hdpe', 'chin', 'sweatband', 'lawman', 'pg3', '6point', 'tensil', 'law', 'jjc', 'arstoreindia', 'mesleep', 'screwdriv', '121', 'jerri', 'modishera', 'wall1der', 'selfadhes', 'techone', 'techon', 'highpow', 'spald', 'iconnect', 'kipsta', 'butyl', '1701859mm', 'wherepow', 'designalso', 'tapawir', 'karega', 'qp360', 'orcel', 'rrp', 'salona', 'bichona', 'randomli', 'ami', 'hoopo', 'walldesign', 'strak', 'wilkin', 'tuscani', 'organza', 'primer', 'nyx', 'gulmohar', 'baalaa', 'wishkey', 'abhinl', 'karlsburg', 'karsci', 'invictu', 'knowth', 'morri', 'shahi', 'inox', 'vapor', 'knighthood', 'trident', 'thelostpuppi', 'theskinmantra', 'fadeproof', 'hydraflex', 'nkp', 'crunchi', 'shadi', 'shopkeeda', 'nilkam', 'zacharia', 'vluma', 'probott', 'kingsway', 'ipop', 'simrit', 'clyra', 'amant', 'antshrik', 'mobiwar', 'maneko', 'wallskart', 'laviva', 'tilak', 'digilight', 'loomkart', 'valtellina', 'unnati', 'carrol', 'veensh', 'incens', 'oudh', 'arial', 'ladybug', 'kan', 'chequ', 'shuttl', 'apron', 'chef', 'bhalaria', 'laminationprint', 'trimn', 'residuespecif', 'suitable_for', 'nighties', '69th', 'yesadroitz', '206', '86mm', 'gash', '2o', 'fsc', 'lienz', 'slipspecif', 'ucb', 'furnishingland', 'auroshikha', 'syon', 'bela', 'alicia', 'souza', 'uncl', 'benit', 'rejewel', 'springwel', 'sprayer', 'protabl', 'lotti', 'grater', 'radium', 'uberlyf', 'decorex', '18w', 'shoprillo', 'ted', 'thoughtroad', 'manirathnum', 'namanirathnum', 'sportshous', 'stylestuff', 'cooktop', 'esbeda', 'czd', 'flicker', 'classif', 'airtex', 'raju', 'lajo', 'dree', 'dare', 'possibledri', 'recomandedspecif', 'size225mslight', 'checkin', 'materialnylonteflon', 'materialsatinnylon', 'compartment2', 'typesoft', 'typeinbuilt', 'typecombin', 'wheels4', 'shreeka', 'sstudio', 'sentinel', 'sark', 'affresh', 'meiro', 'indi', 'bargain', 'rigor', 'curvac', 'bandag', '999store', 'decalstick'])"
      ]
     },
     "execution_count": 32,
     "metadata": {},
     "output_type": "execute_result"
    }
   ],
   "source": [
    "# Get the feature names (unique words) from the vectorizer\n",
    "\n",
    "cv.vocabulary_.keys()"
   ]
  },
  {
   "cell_type": "code",
   "execution_count": 34,
   "id": "5ad35e4f",
   "metadata": {},
   "outputs": [],
   "source": [
    "#Cosine similarity used to measure the similarity between two vectors\n",
    "\n",
    "from sklearn.metrics.pairwise import cosine_similarity"
   ]
  },
  {
   "cell_type": "code",
   "execution_count": 35,
   "id": "0aa1c6a2",
   "metadata": {},
   "outputs": [],
   "source": [
    "#Creating a similarity between products\n",
    "\n",
    "similarity = cosine_similarity(vectors)"
   ]
  },
  {
   "cell_type": "code",
   "execution_count": 36,
   "id": "adc3eb59",
   "metadata": {},
   "outputs": [
    {
     "data": {
      "text/plain": [
       "array([0.06652297, 1.        , 0.22068239, ..., 0.06688093, 0.06730829,\n",
       "       0.06688093])"
      ]
     },
     "execution_count": 36,
     "metadata": {},
     "output_type": "execute_result"
    }
   ],
   "source": [
    "#dispalying th similarity score of 1st product\n",
    "\n",
    "similarity[1]"
   ]
  },
  {
   "cell_type": "code",
   "execution_count": 37,
   "id": "97b70b71",
   "metadata": {},
   "outputs": [],
   "source": [
    "#function to recommend similar products \n",
    "\n",
    "def recommend(product):\n",
    "    product_index = new_product_df[new_product_df['product_name'] == product].index[0]\n",
    "    distances = similarity[product_index]\n",
    "    product_list = sorted(list(enumerate(distances)), reverse=True , key=lambda x:x[1])[1:6]\n",
    "    print('Recommended products : \\n')\n",
    "    for n, i in enumerate(product_list):\n",
    "        print(str(n+1)+ \". \"+ new_product_df.iloc[i[0]].product_name)\n",
    "      "
   ]
  },
  {
   "cell_type": "code",
   "execution_count": 38,
   "id": "70851b94",
   "metadata": {},
   "outputs": [
    {
     "name": "stdout",
     "output_type": "stream",
     "text": [
      "Recommended products : \n",
      "\n",
      "1. Sicons All Purpose Tea Tree Dog Shampoo\n",
      "2. Sicons Conditioning Conditoner Dog Shampoo\n",
      "3. Magideal Raincoat for Dog\n",
      "4. Four Paws Sweats for Cat, Dog\n",
      "5. Royal Canin Maxi Starter 1kg Vegetable Dog Food\n"
     ]
    }
   ],
   "source": [
    "# recommended product\n",
    "\n",
    "recommend('Sicons All Purpose Arnica Dog Shampoo')"
   ]
  },
  {
   "cell_type": "code",
   "execution_count": null,
   "id": "e7036211",
   "metadata": {},
   "outputs": [],
   "source": []
  },
  {
   "cell_type": "code",
   "execution_count": null,
   "id": "b5268659",
   "metadata": {},
   "outputs": [],
   "source": []
  }
 ],
 "metadata": {
  "kernelspec": {
   "display_name": "Python 3 (ipykernel)",
   "language": "python",
   "name": "python3"
  },
  "language_info": {
   "codemirror_mode": {
    "name": "ipython",
    "version": 3
   },
   "file_extension": ".py",
   "mimetype": "text/x-python",
   "name": "python",
   "nbconvert_exporter": "python",
   "pygments_lexer": "ipython3",
   "version": "3.11.0"
  }
 },
 "nbformat": 4,
 "nbformat_minor": 5
}
